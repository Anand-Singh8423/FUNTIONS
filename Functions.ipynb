{
  "nbformat": 4,
  "nbformat_minor": 0,
  "metadata": {
    "colab": {
      "provenance": []
    },
    "kernelspec": {
      "name": "python3",
      "display_name": "Python 3"
    },
    "language_info": {
      "name": "python"
    }
  },
  "cells": [
    {
      "cell_type": "markdown",
      "source": [
        "# Theory Questions:"
      ],
      "metadata": {
        "id": "KNp7VXuiwS8q"
      }
    },
    {
      "cell_type": "markdown",
      "source": [
        "Question-1.What is the difference between a function and a method in Python?\n",
        "\n",
        "Answer-1.🔹\n",
        "\n",
        "**Function**\n",
        "* A function is a block of reusable code that performs a specific task.\n",
        "\n",
        "* Defined using the def keyword.\n",
        "\n",
        "* It is independent and can be used without being tied to any object.\n",
        "\n",
        "    **Method**\n",
        "* A method is a function that is associated with an object.\n",
        "\n",
        "* It is called using dot notation and operates on the data within that object.\n",
        "\n",
        "* Defined inside a class.\n",
        "\n"
      ],
      "metadata": {
        "id": "a50Hi-T7UVpd"
      }
    },
    {
      "cell_type": "code",
      "source": [
        "#Function\n",
        "def greet(name):\n",
        "    return f\"Hello, {name}\"\n",
        "\n",
        "print(greet(\"Anand\"))\n",
        "\n"
      ],
      "metadata": {
        "colab": {
          "base_uri": "https://localhost:8080/"
        },
        "id": "l5botwd0dKhF",
        "outputId": "ec4aca4d-8a24-4e34-dfc3-217342b10f74"
      },
      "execution_count": 13,
      "outputs": [
        {
          "output_type": "stream",
          "name": "stdout",
          "text": [
            "Hello, Anand\n"
          ]
        }
      ]
    },
    {
      "cell_type": "code",
      "source": [
        "#Method\n",
        "class Person:\n",
        "    def greet(self, name):\n",
        "        return f\"Hello, {name}\"\n",
        "\n",
        "p = Person()\n",
        "print(p.greet(\"Anand\"))\n"
      ],
      "metadata": {
        "colab": {
          "base_uri": "https://localhost:8080/"
        },
        "id": "EJTi5SjTddSS",
        "outputId": "70217093-fcff-460e-f850-7b312d7daf74"
      },
      "execution_count": 14,
      "outputs": [
        {
          "output_type": "stream",
          "name": "stdout",
          "text": [
            "Hello, Anand\n"
          ]
        }
      ]
    },
    {
      "cell_type": "markdown",
      "source": [
        "Question-2. Explain the concept of function arguments and parameters in Python.\n",
        "\n",
        "Answer-2.\n",
        "\n",
        "**Parameters**\n",
        "* These are variables listed inside the function definition.\n",
        "\n",
        "* They act as placeholders for the values the function will receive.\n",
        "\n",
        "**Arguments**\n",
        "* These are the actual values passed to a function when it is called."
      ],
      "metadata": {
        "id": "AMHAigomUkLo"
      }
    },
    {
      "cell_type": "code",
      "source": [
        "def greet(name):  # 'name' is a parameter\n",
        "    print(\"Hello\", name)\n"
      ],
      "metadata": {
        "id": "U7fbKMj6eOtr"
      },
      "execution_count": 15,
      "outputs": []
    },
    {
      "cell_type": "code",
      "source": [
        "greet(\"Anand\")  # \"Anand\" is an argument\n"
      ],
      "metadata": {
        "colab": {
          "base_uri": "https://localhost:8080/"
        },
        "id": "kl5feYyKeUe4",
        "outputId": "555c9b4e-3323-4f35-b15d-d4f4c0210c47"
      },
      "execution_count": 16,
      "outputs": [
        {
          "output_type": "stream",
          "name": "stdout",
          "text": [
            "Hello Anand\n"
          ]
        }
      ]
    },
    {
      "cell_type": "markdown",
      "source": [
        "Question-3.What are the different ways to define and call a function in Python?\n",
        "\n",
        "Answer-3.\n",
        "\n",
        "**1. Standard Function Definition and Call**\n",
        "* Defined using the def keyword.\n",
        "\n",
        "**2. Function with Parameters**\n",
        "* You can pass arguments to functions.\n",
        "\n",
        "**3. Function with Return Value**\n",
        "* Functions can return a result using the return keyword.\n",
        "\n",
        "**4. Default Parameters**\n",
        "* You can provide default values for parameters.\n",
        "\n",
        "**5. Variable-Length Arguments**\n",
        "* args for positional arguments.\n",
        "* kwargs for keyword arguments.\n",
        "\n",
        "**6. Lambda (Anonymous) Functions**\n",
        "* Used for short, throwaway functions."
      ],
      "metadata": {
        "id": "89CyHA6gUkwB"
      }
    },
    {
      "cell_type": "code",
      "source": [
        "#1.\n",
        "def greet():\n",
        "    print(\"Hello\")\n",
        "\n",
        "greet()\n",
        "\n",
        "#2.\n",
        "def greet(name):\n",
        "    print(f\"Hello, {name}\")\n",
        "\n",
        "greet(\"Anand\")\n",
        "\n",
        "#3.\n",
        "def add(a, b):\n",
        "    return a + b\n",
        "\n",
        "result = add(3, 5)\n",
        "print(result)\n",
        "\n",
        "#4.\n",
        "def greet(name=\"Guest\"):\n",
        "    print(f\"Hello, {name}\")\n",
        "\n",
        "greet()\n",
        "greet(\"Anand\")\n",
        "\n",
        "#5.\n",
        "def total(*args):\n",
        "    return sum(args)\n",
        "\n",
        "print(total(1, 2, 3))\n",
        "\n",
        "#6.\n",
        "square = lambda x: x * x\n",
        "print(square(4))\n",
        "\n",
        "\n",
        "\n",
        "\n"
      ],
      "metadata": {
        "colab": {
          "base_uri": "https://localhost:8080/"
        },
        "id": "VY3hMIMEgTTX",
        "outputId": "2fe11ca8-22d0-4bc8-ddd3-ce2fa5dfdc8e"
      },
      "execution_count": 17,
      "outputs": [
        {
          "output_type": "stream",
          "name": "stdout",
          "text": [
            "Hello\n",
            "Hello, Anand\n",
            "8\n",
            "Hello, Guest\n",
            "Hello, Anand\n",
            "6\n",
            "16\n"
          ]
        }
      ]
    },
    {
      "cell_type": "markdown",
      "source": [
        "Question-4.What is the purpose of the `return` statement in a Python function?\n",
        "\n",
        "Answer-4.The **return statement** in a Python function is used to:\n",
        "\n",
        "* Send a value back to the place where the function was called.\n",
        "\n",
        "**Purposes of return:**\n",
        "\n",
        "* End the function execution.\n",
        "\n",
        "* Provide the result of a computation to the caller.\n",
        "\n",
        "* Pass data between functions.\n",
        "\n"
      ],
      "metadata": {
        "id": "kLeETGUCUlND"
      }
    },
    {
      "cell_type": "code",
      "source": [
        "def add(a, b):\n",
        "    return a + b\n",
        "\n",
        "result = add(3, 5)\n",
        "print(result)"
      ],
      "metadata": {
        "colab": {
          "base_uri": "https://localhost:8080/"
        },
        "id": "PM1vsiuOi7B3",
        "outputId": "c18a618d-ea8a-4eb0-81de-ffeda9cf78b6"
      },
      "execution_count": 18,
      "outputs": [
        {
          "output_type": "stream",
          "name": "stdout",
          "text": [
            "8\n"
          ]
        }
      ]
    },
    {
      "cell_type": "markdown",
      "source": [
        "Question-5. What are iterators in Python and how do they differ from iterables?\n",
        "\n",
        "Answer-5\n",
        "\n",
        "**Iterable**\n",
        "\n",
        "* An iterable is any Python object capable of returning its elements one at a time, allowing it to be looped over using a for loop.\n",
        "\n",
        "* Examples: list, tuple, string, set, dict\n",
        "\n",
        "* Has the __iter__() method, which returns an iterator.\n",
        "\n",
        "**Iterator**\n",
        "\n",
        "An iterator is an object that represents a stream of data; it remembers its current position and returns the next item when you call next().\n",
        "\n",
        "Has two key methods:\n",
        "\n",
        "* __iter__() → returns the iterator itself\n",
        "\n",
        "* __next__() → returns the next element or raises StopIteration\n"
      ],
      "metadata": {
        "id": "nUjzVC-QUllk"
      }
    },
    {
      "cell_type": "code",
      "source": [
        "# Iterable\n",
        "nums = [1, 2, 3]\n",
        "for num in nums:\n",
        "    print(num)\n",
        "\n",
        "\n",
        "#Iterator\n",
        "nums = [1, 2, 3]\n",
        "it = iter(nums)\n",
        "\n",
        "print(next(it))\n",
        "print(next(it))\n",
        "print(next(it))\n",
        "\n"
      ],
      "metadata": {
        "colab": {
          "base_uri": "https://localhost:8080/"
        },
        "id": "gtgxOOcpl1nv",
        "outputId": "7643c013-f408-4dba-b4c6-229de3170d17"
      },
      "execution_count": 19,
      "outputs": [
        {
          "output_type": "stream",
          "name": "stdout",
          "text": [
            "1\n",
            "2\n",
            "3\n",
            "1\n",
            "2\n",
            "3\n"
          ]
        }
      ]
    },
    {
      "cell_type": "markdown",
      "source": [
        "Question-6.. Explain the concept of generators in Python and how they are defined.\n",
        "\n",
        "Answer-6.A **generator** is a special type of function that yields values one at a time, instead of returning them all at once like a normal function. It allows you to iterate through data lazily (on demand), which is memory-efficient—especially useful for large data sets.\n",
        "\n",
        "**How to Define a Generator**\n",
        "\n",
        "Generators are defined like regular functions, but instead of return, they use the yield keyword."
      ],
      "metadata": {
        "id": "jZLreqcOUl8p"
      }
    },
    {
      "cell_type": "code",
      "source": [
        "def count_up_to(n):\n",
        "    count = 1\n",
        "    while count <= n:\n",
        "        yield count\n",
        "        count += 1\n",
        "\n",
        "# Using the generator\n",
        "for num in count_up_to(5):\n",
        "    print(num)\n"
      ],
      "metadata": {
        "colab": {
          "base_uri": "https://localhost:8080/"
        },
        "id": "2DPhTWRrnpmm",
        "outputId": "50d5bf59-e68e-4a9e-add8-76a7913b9b08"
      },
      "execution_count": 20,
      "outputs": [
        {
          "output_type": "stream",
          "name": "stdout",
          "text": [
            "1\n",
            "2\n",
            "3\n",
            "4\n",
            "5\n"
          ]
        }
      ]
    },
    {
      "cell_type": "markdown",
      "source": [
        "Question-7. What are the advantages of using generators over regular functions?\n",
        "\n",
        "Answer-7.\n",
        "\n",
        "**Advantages of Generators over Regular Functions in Python**\n",
        "\n",
        "Generators offer several benefits, especially for working with large datasets or streams of data.\n",
        "\n",
        "**1. Memory Efficiency**\n",
        "\n",
        "* Generators do not store the entire result in memory.\n",
        "\n",
        "* They yield one item at a time, making them ideal for large or infinite sequences.\n",
        "\n",
        "**2. Lazy Evaluation**\n",
        "* Generators compute values on the fly.\n",
        "* This reduces computation time when not all results are needed.\n",
        "\n",
        "**3. Infinite Sequences**\n",
        "* Generators can represent infinite streams without running out of memory.\n",
        "\n",
        "**4. Cleaner and More Readable Code**\n",
        "* Generator functions replace the need for managing iteration state manually (like using indexes or custom iterator classes).\n",
        "\n",
        "**5. Chaining and Pipelining**\n",
        "* Generators can be chained together to create powerful data processing pipelines (like Unix pipes)."
      ],
      "metadata": {
        "id": "9ElMFmf_U2YH"
      }
    },
    {
      "cell_type": "markdown",
      "source": [
        "Question-8.What is a lambda function in Python and when is it typically used?\n",
        "\n",
        "Answer-8.A lambda function is a small, anonymous (unnamed) function defined using the lambda keyword. It can have any number of arguments, but only one expression.\n",
        "\n",
        " **When is it typically used?**\n",
        "\n",
        "Lambda functions are usually used:\n",
        "\n",
        "* For short, simple functions\n",
        "\n",
        "* When you don’t want to formally define a function with def\n",
        "\n",
        "With built-in functions like map(), filter(), and sorted()"
      ],
      "metadata": {
        "id": "GDdbg_l6U2fO"
      }
    },
    {
      "cell_type": "code",
      "source": [
        "square = lambda x: x * x\n",
        "print(square(5))\n"
      ],
      "metadata": {
        "colab": {
          "base_uri": "https://localhost:8080/"
        },
        "id": "6E9CLuwBuDH4",
        "outputId": "aaed08b2-0caf-4a63-b88f-71f167f52ae2"
      },
      "execution_count": 21,
      "outputs": [
        {
          "output_type": "stream",
          "name": "stdout",
          "text": [
            "25\n"
          ]
        }
      ]
    },
    {
      "cell_type": "markdown",
      "source": [
        "Question-9.Explain the purpose and usage of the `map()` function in Python.\n",
        "\n",
        "Answer-9.The map() function is used to apply a function to every item in an iterable (like a list, tuple, etc.) and return a new map object (which can be converted into a list, set, etc.).\n",
        "\n",
        "**Transform data**\n",
        "\n",
        "* Convert strings to uppercase\n",
        "\n",
        "* Apply mathematical formulas\n",
        "\n",
        "**With multiple iterables:**\n"
      ],
      "metadata": {
        "id": "cVfkFnjlU24g"
      }
    },
    {
      "cell_type": "code",
      "source": [
        "a = [1, 2, 3]\n",
        "b = [4, 5, 6]\n",
        "result = map(lambda x, y: x + y, a, b)\n",
        "print(list(result))\n"
      ],
      "metadata": {
        "colab": {
          "base_uri": "https://localhost:8080/"
        },
        "id": "_lzHWKjKvLGY",
        "outputId": "81642518-1469-4eeb-9c37-ac583336225c"
      },
      "execution_count": 22,
      "outputs": [
        {
          "output_type": "stream",
          "name": "stdout",
          "text": [
            "[5, 7, 9]\n"
          ]
        }
      ]
    },
    {
      "cell_type": "markdown",
      "source": [
        "Question-10. What is the difference between `map()`, `reduce()`, and `filter()` functions in Python?\n",
        "\n",
        "Answer-10.\n",
        "\n",
        "**Differences Between map(), reduce(), and filter() in Python**\n",
        "These are functional programming tools used to process iterables, but they serve different purposes.\n",
        "\n",
        "**1. map() – Transform Each Element**\n",
        "* Applies a function to every item in an iterable.\n",
        "\n",
        "* Returns a new iterable with the transformed values.\n",
        "\n",
        "**2. filter() – Keep Elements That Match a Condition**\n",
        "* Applies a function that returns True or False.\n",
        "\n",
        "* Keeps only the items that return True.\n",
        "\n",
        "**3. reduce() – Reduce to a Single Value**\n",
        "* Applies a function cumulatively to the items in the iterable.\n",
        "\n",
        "* You must import it from functools.\n",
        "\n"
      ],
      "metadata": {
        "id": "xdGMWer0U24_"
      }
    },
    {
      "cell_type": "code",
      "source": [
        "#1\n",
        "nums = [1, 2, 3]\n",
        "squares = list(map(lambda x: x**2, nums))\n",
        "\n",
        "#2\n",
        "nums = [1, 2, 3, 4]\n",
        "even = list(filter(lambda x: x % 2 == 0, nums))\n",
        "\n",
        "#3\n",
        "from functools import reduce\n",
        "nums = [1, 2, 3, 4]\n",
        "total = reduce(lambda x, y: x + y, nums)\n",
        "\n",
        "\n",
        "\n"
      ],
      "metadata": {
        "id": "O4RBZYRVwn0k"
      },
      "execution_count": 27,
      "outputs": []
    },
    {
      "cell_type": "markdown",
      "source": [
        "# Practical Questions:"
      ],
      "metadata": {
        "id": "UiKRfSVCU25t"
      }
    },
    {
      "cell_type": "markdown",
      "source": [
        "Question-1.Write a Python function that takes a list of numbers as input and returns the sum of all even numbers in\n",
        "the list."
      ],
      "metadata": {
        "id": "eA9_24XKU26X"
      }
    },
    {
      "cell_type": "code",
      "source": [
        "def sum_of_even_numbers(numbers):\n",
        "    even_sum = 0\n",
        "    for num in numbers:\n",
        "        if num % 2 == 0:\n",
        "            even_sum += num\n",
        "    return even_sum\n",
        "\n",
        "my_list = [1, 2, 3, 4, 5, 6]\n",
        "result = sum_of_even_numbers(my_list)\n",
        "print(\"Sum of even numbers:\", result)\n"
      ],
      "metadata": {
        "colab": {
          "base_uri": "https://localhost:8080/"
        },
        "id": "7bUtsuUNxPwV",
        "outputId": "773ae95a-fea2-4299-b611-7fc8d9916ff7"
      },
      "execution_count": 28,
      "outputs": [
        {
          "output_type": "stream",
          "name": "stdout",
          "text": [
            "Sum of even numbers: 12\n"
          ]
        }
      ]
    },
    {
      "cell_type": "markdown",
      "source": [
        "Question-2.Create a Python function that accepts a string and returns the reverse of that string."
      ],
      "metadata": {
        "id": "Xy_G0NLfU27H"
      }
    },
    {
      "cell_type": "code",
      "source": [
        "def reverse_string(text):\n",
        "    return text[::-1]\n",
        "\n",
        "input_str = \"hello\"\n",
        "reversed_str = reverse_string(input_str)\n",
        "print(\"Reversed string:\", reversed_str)\n"
      ],
      "metadata": {
        "colab": {
          "base_uri": "https://localhost:8080/"
        },
        "id": "DKnBLL7Qxkr0",
        "outputId": "060eed43-48b7-40a9-caa8-3b66d3f64bb5"
      },
      "execution_count": 29,
      "outputs": [
        {
          "output_type": "stream",
          "name": "stdout",
          "text": [
            "Reversed string: olleh\n"
          ]
        }
      ]
    },
    {
      "cell_type": "markdown",
      "source": [
        "Question-3.Implement a Python function that takes a list of integers and returns a new list containing the squares of\n",
        "each number.\n"
      ],
      "metadata": {
        "id": "3D5ZONb-U27y"
      }
    },
    {
      "cell_type": "code",
      "source": [
        "def square_list(numbers):\n",
        "    return [x ** 2 for x in numbers]\n",
        "\n",
        "nums = [1, 2, 3, 4]\n",
        "squared = square_list(nums)\n",
        "print(\"Squared list:\", squared)\n"
      ],
      "metadata": {
        "colab": {
          "base_uri": "https://localhost:8080/"
        },
        "id": "s8Mc0H_Rx9n2",
        "outputId": "2fd04b36-8db9-4475-bde6-b3f4e8030650"
      },
      "execution_count": 30,
      "outputs": [
        {
          "output_type": "stream",
          "name": "stdout",
          "text": [
            "Squared list: [1, 4, 9, 16]\n"
          ]
        }
      ]
    },
    {
      "cell_type": "markdown",
      "source": [
        "Question-4. Write a Python function that checks if a given number is prime or not from 1 to 200."
      ],
      "metadata": {
        "id": "nh3eSnaeU28e"
      }
    },
    {
      "cell_type": "code",
      "source": [
        "def is_prime(n):\n",
        "    if n < 2:\n",
        "        return False\n",
        "    for i in range(2, int(n**0.5)+1):\n",
        "        if n % i == 0:\n",
        "            return False\n",
        "    return True\n",
        "\n",
        "for number in range(1, 201):\n",
        "    if is_prime(number):\n",
        "        print(number, end=\" \")\n"
      ],
      "metadata": {
        "colab": {
          "base_uri": "https://localhost:8080/"
        },
        "id": "WMlQOdlpyXoy",
        "outputId": "3f6c5f22-81c0-48f3-ad22-1e20ed81e321"
      },
      "execution_count": 31,
      "outputs": [
        {
          "output_type": "stream",
          "name": "stdout",
          "text": [
            "2 3 5 7 11 13 17 19 23 29 31 37 41 43 47 53 59 61 67 71 73 79 83 89 97 101 103 107 109 113 127 131 137 139 149 151 157 163 167 173 179 181 191 193 197 199 "
          ]
        }
      ]
    },
    {
      "cell_type": "markdown",
      "source": [
        "Question-5.. Create an iterator class in Python that generates the Fibonacci sequence up to a specified number of\n",
        "terms."
      ],
      "metadata": {
        "id": "QfO4BCu6U29P"
      }
    },
    {
      "cell_type": "code",
      "source": [
        "class Fibonacci:\n",
        "    def __init__(self, max_terms):\n",
        "        self.max_terms = max_terms\n",
        "        self.a = 0\n",
        "        self.b = 1\n",
        "        self.count = 0\n",
        "\n",
        "    def __iter__(self):\n",
        "        return self\n",
        "\n",
        "    def __next__(self):\n",
        "        if self.count >= self.max_terms:\n",
        "            raise StopIteration\n",
        "        if self.count == 0:\n",
        "            self.count += 1\n",
        "            return self.a\n",
        "        elif self.count == 1:\n",
        "            self.count += 1\n",
        "            return self.b\n",
        "        else:\n",
        "            next_value = self.a + self.b\n",
        "            self.a, self.b = self.b, next_value\n",
        "            self.count += 1\n",
        "            return next_value\n",
        "\n",
        "fib = Fibonacci(10)\n",
        "for num in fib:\n",
        "    print(num, end=\" \")"
      ],
      "metadata": {
        "colab": {
          "base_uri": "https://localhost:8080/"
        },
        "id": "AAMOASQJy4Sv",
        "outputId": "6975a216-f290-4d8a-8e65-c72fb03b1b73"
      },
      "execution_count": 32,
      "outputs": [
        {
          "output_type": "stream",
          "name": "stdout",
          "text": [
            "0 1 1 2 3 5 8 13 21 34 "
          ]
        }
      ]
    },
    {
      "cell_type": "markdown",
      "source": [
        "Question-6.Write a generator function in Python that yields the powers of 2 up to a given exponent.\n"
      ],
      "metadata": {
        "id": "maoomqnSU299"
      }
    },
    {
      "cell_type": "code",
      "source": [
        "def powers_of_two(n):\n",
        "    for i in range(n + 1):\n",
        "        yield 2 ** i\n",
        "\n",
        "for power in powers_of_two(5):\n",
        "    print(power, end=\" \")\n"
      ],
      "metadata": {
        "colab": {
          "base_uri": "https://localhost:8080/"
        },
        "id": "WnEzjHlbzHd0",
        "outputId": "177c09ee-1b01-4ee4-9c3d-d046febf17d8"
      },
      "execution_count": 36,
      "outputs": [
        {
          "output_type": "stream",
          "name": "stdout",
          "text": [
            "1 2 4 8 16 32 "
          ]
        }
      ]
    },
    {
      "cell_type": "markdown",
      "source": [
        "Question-7. Implement a generator function that reads a file line by line and yields each line as a string."
      ],
      "metadata": {
        "id": "vHCHGJzqU2-q"
      }
    },
    {
      "cell_type": "code",
      "source": [
        "def read_file_lines(filename):\n",
        "    with open(filename, 'r') as file:\n",
        "        for line in file:\n",
        "            yield line.strip()\n",
        "\n",
        "# Example usage:\n",
        "# Assuming 'sample.txt' is a text file in the same directory\n",
        "for line in read_file_lines('sample.txt'):\n",
        "    print(line)\n"
      ],
      "metadata": {
        "colab": {
          "base_uri": "https://localhost:8080/",
          "height": 315
        },
        "id": "rT-e_09vzZSW",
        "outputId": "2f220414-a05a-4502-bb74-7a8c96e419d5"
      },
      "execution_count": 37,
      "outputs": [
        {
          "output_type": "error",
          "ename": "FileNotFoundError",
          "evalue": "[Errno 2] No such file or directory: 'sample.txt'",
          "traceback": [
            "\u001b[0;31m---------------------------------------------------------------------------\u001b[0m",
            "\u001b[0;31mFileNotFoundError\u001b[0m                         Traceback (most recent call last)",
            "\u001b[0;32m/tmp/ipython-input-37-3371651462.py\u001b[0m in \u001b[0;36m<cell line: 0>\u001b[0;34m()\u001b[0m\n\u001b[1;32m      6\u001b[0m \u001b[0;31m# Example usage:\u001b[0m\u001b[0;34m\u001b[0m\u001b[0;34m\u001b[0m\u001b[0m\n\u001b[1;32m      7\u001b[0m \u001b[0;31m# Assuming 'sample.txt' is a text file in the same directory\u001b[0m\u001b[0;34m\u001b[0m\u001b[0;34m\u001b[0m\u001b[0m\n\u001b[0;32m----> 8\u001b[0;31m \u001b[0;32mfor\u001b[0m \u001b[0mline\u001b[0m \u001b[0;32min\u001b[0m \u001b[0mread_file_lines\u001b[0m\u001b[0;34m(\u001b[0m\u001b[0;34m'sample.txt'\u001b[0m\u001b[0;34m)\u001b[0m\u001b[0;34m:\u001b[0m\u001b[0;34m\u001b[0m\u001b[0;34m\u001b[0m\u001b[0m\n\u001b[0m\u001b[1;32m      9\u001b[0m     \u001b[0mprint\u001b[0m\u001b[0;34m(\u001b[0m\u001b[0mline\u001b[0m\u001b[0;34m)\u001b[0m\u001b[0;34m\u001b[0m\u001b[0;34m\u001b[0m\u001b[0m\n",
            "\u001b[0;32m/tmp/ipython-input-37-3371651462.py\u001b[0m in \u001b[0;36mread_file_lines\u001b[0;34m(filename)\u001b[0m\n\u001b[1;32m      1\u001b[0m \u001b[0;32mdef\u001b[0m \u001b[0mread_file_lines\u001b[0m\u001b[0;34m(\u001b[0m\u001b[0mfilename\u001b[0m\u001b[0;34m)\u001b[0m\u001b[0;34m:\u001b[0m\u001b[0;34m\u001b[0m\u001b[0;34m\u001b[0m\u001b[0m\n\u001b[0;32m----> 2\u001b[0;31m     \u001b[0;32mwith\u001b[0m \u001b[0mopen\u001b[0m\u001b[0;34m(\u001b[0m\u001b[0mfilename\u001b[0m\u001b[0;34m,\u001b[0m \u001b[0;34m'r'\u001b[0m\u001b[0;34m)\u001b[0m \u001b[0;32mas\u001b[0m \u001b[0mfile\u001b[0m\u001b[0;34m:\u001b[0m\u001b[0;34m\u001b[0m\u001b[0;34m\u001b[0m\u001b[0m\n\u001b[0m\u001b[1;32m      3\u001b[0m         \u001b[0;32mfor\u001b[0m \u001b[0mline\u001b[0m \u001b[0;32min\u001b[0m \u001b[0mfile\u001b[0m\u001b[0;34m:\u001b[0m\u001b[0;34m\u001b[0m\u001b[0;34m\u001b[0m\u001b[0m\n\u001b[1;32m      4\u001b[0m             \u001b[0;32myield\u001b[0m \u001b[0mline\u001b[0m\u001b[0;34m.\u001b[0m\u001b[0mstrip\u001b[0m\u001b[0;34m(\u001b[0m\u001b[0;34m)\u001b[0m\u001b[0;34m\u001b[0m\u001b[0;34m\u001b[0m\u001b[0m\n\u001b[1;32m      5\u001b[0m \u001b[0;34m\u001b[0m\u001b[0m\n",
            "\u001b[0;31mFileNotFoundError\u001b[0m: [Errno 2] No such file or directory: 'sample.txt'"
          ]
        }
      ]
    },
    {
      "cell_type": "markdown",
      "source": [
        "Question-8. Use a lambda function in Python to sort a list of tuples based on the second element of each tuple.\n"
      ],
      "metadata": {
        "id": "FYkeDFx1U2_Y"
      }
    },
    {
      "cell_type": "code",
      "source": [
        "# Sample list of tuples\n",
        "data = [(1, 5), (2, 3), (4, 1), (3, 4)]\n",
        "\n",
        "# Sort using lambda\n",
        "sorted_data = sorted(data, key=lambda x: x[1])\n",
        "\n",
        "print(sorted_data)  # Output: [(4, 1), (2, 3), (3, 4), (1, 5)]\n"
      ],
      "metadata": {
        "colab": {
          "base_uri": "https://localhost:8080/"
        },
        "id": "sXnXtd50z9BG",
        "outputId": "a60bd42e-681f-4e69-beab-67a86c011ffa"
      },
      "execution_count": 38,
      "outputs": [
        {
          "output_type": "stream",
          "name": "stdout",
          "text": [
            "[(4, 1), (2, 3), (3, 4), (1, 5)]\n"
          ]
        }
      ]
    },
    {
      "cell_type": "markdown",
      "source": [
        "Question-9. Write a Python program that uses `map()` to convert a list of temperatures from Celsius to Fahrenheit.\n"
      ],
      "metadata": {
        "id": "WzY3L4R8U3AC"
      }
    },
    {
      "cell_type": "code",
      "source": [
        "celsius = [0, 20, 37, 100]\n",
        "\n",
        "# Convert using map and lambda\n",
        "fahrenheit = list(map(lambda c: (c * 9/5) + 32, celsius))\n",
        "\n",
        "print(\"Fahrenheit:\", fahrenheit)\n"
      ],
      "metadata": {
        "colab": {
          "base_uri": "https://localhost:8080/"
        },
        "id": "-WqVS_YH0G1L",
        "outputId": "43b3291f-d483-47ea-80f9-63553f87e9b2"
      },
      "execution_count": 39,
      "outputs": [
        {
          "output_type": "stream",
          "name": "stdout",
          "text": [
            "Fahrenheit: [32.0, 68.0, 98.6, 212.0]\n"
          ]
        }
      ]
    },
    {
      "cell_type": "markdown",
      "source": [
        "Question-10. Create a Python program that uses `filter()` to remove all the vowels from a given string.\n"
      ],
      "metadata": {
        "id": "Bjn2qy-jU3A4"
      }
    },
    {
      "cell_type": "code",
      "source": [
        "def remove_vowels(text):\n",
        "    vowels = \"aeiouAEIOU\"\n",
        "    return ''.join(filter(lambda char: char not in vowels, text))\n",
        "\n",
        "# Example usage\n",
        "input_str = \"Hello World\"\n",
        "result = remove_vowels(input_str)\n",
        "print(\"Without vowels:\", result)  # Output: Hll Wrld\n"
      ],
      "metadata": {
        "colab": {
          "base_uri": "https://localhost:8080/"
        },
        "id": "ZEye5h6j0UqV",
        "outputId": "be66b99d-9d3b-4bcb-f060-f7387821a6eb"
      },
      "execution_count": 40,
      "outputs": [
        {
          "output_type": "stream",
          "name": "stdout",
          "text": [
            "Without vowels: Hll Wrld\n"
          ]
        }
      ]
    },
    {
      "cell_type": "markdown",
      "source": [
        "Question-11. Imagine an accounting routine used in a book shop. It works on a list with sublists, which look like this:\n",
        "\n",
        "\n",
        "\n",
        "\n",
        "\n",
        "\n",
        "\n",
        "Write a Python program, which returns a list with 2-tuples. Each tuple consists of the order number and the\n",
        "product of the price per item and the quantity. The product should be increased by 10,- € if the value of the\n",
        "order is smaller than 100,00 €.\n",
        "\n",
        "Write a Python program using lambda and map."
      ],
      "metadata": {
        "id": "j_cHdGrIU3Bg"
      }
    },
    {
      "cell_type": "code",
      "source": [
        "orders = [\n",
        "    [34587, \"Learning Python\", 4, 40.95],\n",
        "    [98762, \"Programming Java\", 5, 56.80],\n",
        "    [77226, \"Head First C\", 3, 32.95],\n",
        "    [88112, \"Machine Learning\", 3, 24.99]\n",
        "]\n",
        "\n",
        "result = list(map(lambda order: (\n",
        "    order[0],\n",
        "    order[2] * order[3] if order[2] * order[3] >= 100 else order[2] * order[3] + 10\n",
        "), orders))\n",
        "\n",
        "print(result)\n"
      ],
      "metadata": {
        "colab": {
          "base_uri": "https://localhost:8080/"
        },
        "id": "bbyztPuJ00IL",
        "outputId": "5aa91c41-b412-416a-fba6-46a882465b1e"
      },
      "execution_count": 41,
      "outputs": [
        {
          "output_type": "stream",
          "name": "stdout",
          "text": [
            "[(34587, 163.8), (98762, 284.0), (77226, 108.85000000000001), (88112, 84.97)]\n"
          ]
        }
      ]
    }
  ]
}